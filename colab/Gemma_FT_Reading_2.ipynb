{
  "cells": [
    {
      "cell_type": "code",
      "execution_count": null,
      "metadata": {
        "id": "OF8EGvlHag-b"
      },
      "outputs": [],
      "source": [
        "# 세션 유지 코드\n",
        "from IPython.display import clear_output\n",
        "import threading, time\n",
        "\n",
        "def keep_alive():\n",
        "    for i in range(100000):\n",
        "        time.sleep(60)\n",
        "        clear_output(wait=True)\n",
        "        print(f\"Ping {i} ⏱️\")\n",
        "\n",
        "threading.Thread(target=keep_alive).start()"
      ]
    },
    {
      "cell_type": "code",
      "execution_count": null,
      "metadata": {
        "id": "J-mNtRsyXqzP"
      },
      "outputs": [],
      "source": [
        "# ===================================================\n",
        "# 0. Install dependencies (Colab)\n",
        "# ===================================================\n",
        "!pip install transformers datasets sentence-transformers accelerate peft bitsandbytes trl --quiet\n",
        "\n",
        "import torch, re\n",
        "import pandas as pd\n",
        "from datasets import load_dataset, Dataset\n",
        "from transformers import (AutoTokenizer, AutoModelForSeq2SeqLM, BitsAndBytesConfig,\n",
        "                          TrainingArguments, DataCollatorWithPadding)\n",
        "from sentence_transformers import SentenceTransformer\n",
        "from sklearn.metrics.pairwise import cosine_similarity\n",
        "from peft import LoraConfig, get_peft_model\n",
        "from trl import SFTTrainer"
      ]
    },
    {
      "cell_type": "code",
      "execution_count": null,
      "metadata": {
        "id": "ZKSAP85-X35A"
      },
      "outputs": [],
      "source": [
        "# ==========================================\n",
        "# 1. Load Dataset (Math binary classification)\n",
        "# ==========================================\n",
        "print(\"🔄 Loading dataset...\")\n",
        "\n",
        "from google.colab import drive\n",
        "drive.mount('/content/drive')\n",
        "\n",
        "dataset = load_from_disk(\"/content/drive/MyDrive/Gemma_FineTuning/essay_eval_multiclass_2000\")"
      ]
    },
    {
      "cell_type": "code",
      "execution_count": null,
      "metadata": {
        "id": "QDQsdfedX5_a"
      },
      "outputs": [],
      "source": [
        "# ===================================================\n",
        "# 2. Load Gemma Model + LoRA Setup\n",
        "# ===================================================\n",
        "\n",
        "from huggingface_hub import login\n",
        "login(token=\"YOUR_HF_TOKEN\")\n",
        "\n",
        "quant_config = BitsAndBytesConfig(\n",
        "    load_in_4bit=True,\n",
        "    bnb_4bit_use_double_quant=True,\n",
        "    bnb_4bit_quant_type=\"nf4\",\n",
        "    bnb_4bit_compute_dtype=torch.bfloat16,\n",
        ")\n",
        "\n",
        "gemma_model_id = \"google/gemma-2b-it\"\n",
        "tokenizer = AutoTokenizer.from_pretrained(gemma_model_id)\n",
        "if tokenizer.pad_token is None:\n",
        "    tokenizer.pad_token = tokenizer.eos_token\n",
        "\n",
        "base_model = AutoModelForSeq2SeqLM.from_pretrained(\n",
        "    gemma_model_id,\n",
        "    quantization_config=quant_config,\n",
        "    device_map=\"auto\"\n",
        ")\n",
        "\n",
        "lora_config = LoraConfig(\n",
        "    r=8,\n",
        "    lora_alpha=16,\n",
        "    target_modules=[\"q\", \"v\"],\n",
        "    lora_dropout=0.1,\n",
        "    bias=\"none\",\n",
        "    task_type=\"SEQ_2_SEQ_LM\"\n",
        ")\n",
        "\n",
        "model = get_peft_model(base_model, lora_config)"
      ]
    },
    {
      "cell_type": "code",
      "execution_count": null,
      "metadata": {
        "id": "S2i16dD3X8hY"
      },
      "outputs": [],
      "source": [
        "# ===================================================\n",
        "# 3. Tokenization & Trainer Setup\n",
        "# ===================================================\n",
        "def tokenize(example):\n",
        "    return tokenizer(example[\"input\"], truncation=True, padding=\"max_length\", max_length=512)\n",
        "\n",
        "tokenized_data = data.map(tokenize, batched=True)\n",
        "\n",
        "training_args = TrainingArguments(\n",
        "    output_dir=\"./gemma-essay-lora\",\n",
        "    per_device_train_batch_size=1,\n",
        "    gradient_accumulation_steps=4,\n",
        "    num_train_epochs=2,\n",
        "    logging_steps=25,\n",
        "    save_steps=500,\n",
        "    learning_rate=2e-4,\n",
        "    lr_scheduler_type=\"constant\",\n",
        "    bf16=True,\n",
        "    optim=\"paged_adamw_8bit\",\n",
        "    report_to=None,\n",
        ")\n",
        "\n",
        "trainer = SFTTrainer(\n",
        "    model=model,\n",
        "    train_dataset=tokenized_data,\n",
        "    args=training_args,\n",
        "    peft_config=lora_config,\n",
        "    data_collator=DataCollatorWithPadding(tokenizer)\n",
        ")"
      ]
    },
    {
      "cell_type": "code",
      "execution_count": null,
      "metadata": {
        "id": "JcNBVLjVXfkK"
      },
      "outputs": [],
      "source": [
        "# ===================================================\n",
        "# 4. Start Training\n",
        "# ===================================================\n",
        "print(\"🚀 Starting LoRA fine-tuning on essay dataset...\")\n",
        "trainer.train()"
      ]
    },
    {
      "cell_type": "code",
      "execution_count": null,
      "metadata": {
        "id": "9xY7YHvqXm00"
      },
      "outputs": [],
      "source": [
        "# ==========================================\n",
        "# 5. Save to Drive & Hugging Face\n",
        "# ==========================================\n",
        "\n",
        "save_path = \"/content/drive/MyDrive/Gemma_FineTuning/essay_eval_multiclass_2000\"\n",
        "model.save_pretrained(save_path)\n",
        "tokenizer.save_pretrained(save_path)\n",
        "\n",
        "# Hugging Face Upload\n",
        "repo_id = \"LeannaJ/essay_evaluation\"\n",
        "model.push_to_hub(repo_id)\n",
        "tokenizer.push_to_hub(repo_id)\n",
        "print(f\"✅ Hugging Face에 업로드 완료: https://huggingface.co/{repo_id}\")"
      ]
    }
  ],
  "metadata": {
    "accelerator": "GPU",
    "colab": {
      "gpuType": "A100",
      "machine_shape": "hm",
      "provenance": []
    },
    "kernelspec": {
      "display_name": "Python 3",
      "name": "python3"
    },
    "language_info": {
      "name": "python"
    }
  },
  "nbformat": 4,
  "nbformat_minor": 0
}
